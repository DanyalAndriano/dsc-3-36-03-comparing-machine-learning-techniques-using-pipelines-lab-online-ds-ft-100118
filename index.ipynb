{
 "cells": [
  {
   "cell_type": "markdown",
   "metadata": {},
   "source": [
    "# Comparing Machine Learning Techniques Using Pipelines - Lab"
   ]
  },
  {
   "cell_type": "markdown",
   "metadata": {},
   "source": [
    "## Introduction"
   ]
  },
  {
   "cell_type": "markdown",
   "metadata": {},
   "source": [
    "In this lab, you'lll use a Dataset created by Otto group, which was also used in a [Kaggle competition](https://www.kaggle.com/c/otto-group-product-classification-challenge/data).\n",
    "\n",
    "The description of the data set is as follows:\n",
    "\n",
    "The Otto Group is one of the world’s biggest e-commerce companies, with subsidiaries in more than 20 countries, including Crate & Barrel (USA), Otto.de (Germany) and 3 Suisses (France). They are selling millions of products worldwide every day, with several thousand products being added to our product line.\n",
    "\n",
    "A consistent analysis of the performance of our products is crucial. However, due to their global infrastructure, many identical products get classified differently. Therefore, the quality of our product analysis depends heavily on the ability to accurately cluster similar products. The better the classification, the more insights Otto Group can generate about their product range.\n",
    "\n",
    "In this lab, you'll use a data set containing:\n",
    "- A column `id`, which is an anonymous id unique to a product\n",
    "- 93 columns `feat_1`, `feat_2`, ..., `feat_93`, which are the various features of a product\n",
    "- a column `target` - the class of a product\n"
   ]
  },
  {
   "cell_type": "markdown",
   "metadata": {},
   "source": [
    "## Objectives\n",
    "\n",
    "You will be able to:\n",
    "- Compare different classification techniques\n",
    "- Construct pipelines in scikit-learn\n",
    "- Use pipelines in combination with GridSearchCV"
   ]
  },
  {
   "cell_type": "markdown",
   "metadata": {},
   "source": [
    "## The Data Science Workflow"
   ]
  },
  {
   "cell_type": "markdown",
   "metadata": {},
   "source": [
    "You will be following the data science workflow:\n",
    "\n",
    "1. Initial data inspection, exploratory data analysis, and cleaning\n",
    "2. Feature engineering and selection\n",
    "3. create a baseline model\n",
    "4. create a machine learning pipeline and compare results with the baseline model\n",
    "5. Interpret the model and draw conclusions"
   ]
  },
  {
   "cell_type": "markdown",
   "metadata": {},
   "source": [
    "##  Initial data inspection, exploratory data analysis, and cleaning"
   ]
  },
  {
   "cell_type": "markdown",
   "metadata": {},
   "source": [
    "The data is stored in \"otto_group.csv\".\n",
    "\n",
    "Things to do here:\n",
    "- Check for NAs\n",
    "- Check the distributions\n",
    "- Check how many inputs there are\n",
    "- ..."
   ]
  },
  {
   "cell_type": "code",
   "execution_count": 1,
   "metadata": {},
   "outputs": [
    {
     "data": {
      "text/html": [
       "<div>\n",
       "<style scoped>\n",
       "    .dataframe tbody tr th:only-of-type {\n",
       "        vertical-align: middle;\n",
       "    }\n",
       "\n",
       "    .dataframe tbody tr th {\n",
       "        vertical-align: top;\n",
       "    }\n",
       "\n",
       "    .dataframe thead th {\n",
       "        text-align: right;\n",
       "    }\n",
       "</style>\n",
       "<table border=\"1\" class=\"dataframe\">\n",
       "  <thead>\n",
       "    <tr style=\"text-align: right;\">\n",
       "      <th></th>\n",
       "      <th>id</th>\n",
       "      <th>feat_1</th>\n",
       "      <th>feat_2</th>\n",
       "      <th>feat_3</th>\n",
       "      <th>feat_4</th>\n",
       "      <th>feat_5</th>\n",
       "      <th>feat_6</th>\n",
       "      <th>feat_7</th>\n",
       "      <th>feat_8</th>\n",
       "      <th>feat_9</th>\n",
       "      <th>...</th>\n",
       "      <th>feat_85</th>\n",
       "      <th>feat_86</th>\n",
       "      <th>feat_87</th>\n",
       "      <th>feat_88</th>\n",
       "      <th>feat_89</th>\n",
       "      <th>feat_90</th>\n",
       "      <th>feat_91</th>\n",
       "      <th>feat_92</th>\n",
       "      <th>feat_93</th>\n",
       "      <th>target</th>\n",
       "    </tr>\n",
       "  </thead>\n",
       "  <tbody>\n",
       "    <tr>\n",
       "      <th>0</th>\n",
       "      <td>1</td>\n",
       "      <td>1</td>\n",
       "      <td>0</td>\n",
       "      <td>0</td>\n",
       "      <td>0</td>\n",
       "      <td>0</td>\n",
       "      <td>0</td>\n",
       "      <td>0</td>\n",
       "      <td>0</td>\n",
       "      <td>0</td>\n",
       "      <td>...</td>\n",
       "      <td>1</td>\n",
       "      <td>0</td>\n",
       "      <td>0</td>\n",
       "      <td>0</td>\n",
       "      <td>0</td>\n",
       "      <td>0</td>\n",
       "      <td>0</td>\n",
       "      <td>0</td>\n",
       "      <td>0</td>\n",
       "      <td>Class_1</td>\n",
       "    </tr>\n",
       "    <tr>\n",
       "      <th>1</th>\n",
       "      <td>2</td>\n",
       "      <td>0</td>\n",
       "      <td>0</td>\n",
       "      <td>0</td>\n",
       "      <td>0</td>\n",
       "      <td>0</td>\n",
       "      <td>0</td>\n",
       "      <td>0</td>\n",
       "      <td>1</td>\n",
       "      <td>0</td>\n",
       "      <td>...</td>\n",
       "      <td>0</td>\n",
       "      <td>0</td>\n",
       "      <td>0</td>\n",
       "      <td>0</td>\n",
       "      <td>0</td>\n",
       "      <td>0</td>\n",
       "      <td>0</td>\n",
       "      <td>0</td>\n",
       "      <td>0</td>\n",
       "      <td>Class_1</td>\n",
       "    </tr>\n",
       "    <tr>\n",
       "      <th>2</th>\n",
       "      <td>3</td>\n",
       "      <td>0</td>\n",
       "      <td>0</td>\n",
       "      <td>0</td>\n",
       "      <td>0</td>\n",
       "      <td>0</td>\n",
       "      <td>0</td>\n",
       "      <td>0</td>\n",
       "      <td>1</td>\n",
       "      <td>0</td>\n",
       "      <td>...</td>\n",
       "      <td>0</td>\n",
       "      <td>0</td>\n",
       "      <td>0</td>\n",
       "      <td>0</td>\n",
       "      <td>0</td>\n",
       "      <td>0</td>\n",
       "      <td>0</td>\n",
       "      <td>0</td>\n",
       "      <td>0</td>\n",
       "      <td>Class_1</td>\n",
       "    </tr>\n",
       "    <tr>\n",
       "      <th>3</th>\n",
       "      <td>4</td>\n",
       "      <td>1</td>\n",
       "      <td>0</td>\n",
       "      <td>0</td>\n",
       "      <td>1</td>\n",
       "      <td>6</td>\n",
       "      <td>1</td>\n",
       "      <td>5</td>\n",
       "      <td>0</td>\n",
       "      <td>0</td>\n",
       "      <td>...</td>\n",
       "      <td>0</td>\n",
       "      <td>1</td>\n",
       "      <td>2</td>\n",
       "      <td>0</td>\n",
       "      <td>0</td>\n",
       "      <td>0</td>\n",
       "      <td>0</td>\n",
       "      <td>0</td>\n",
       "      <td>0</td>\n",
       "      <td>Class_1</td>\n",
       "    </tr>\n",
       "    <tr>\n",
       "      <th>4</th>\n",
       "      <td>5</td>\n",
       "      <td>0</td>\n",
       "      <td>0</td>\n",
       "      <td>0</td>\n",
       "      <td>0</td>\n",
       "      <td>0</td>\n",
       "      <td>0</td>\n",
       "      <td>0</td>\n",
       "      <td>0</td>\n",
       "      <td>0</td>\n",
       "      <td>...</td>\n",
       "      <td>1</td>\n",
       "      <td>0</td>\n",
       "      <td>0</td>\n",
       "      <td>0</td>\n",
       "      <td>0</td>\n",
       "      <td>1</td>\n",
       "      <td>0</td>\n",
       "      <td>0</td>\n",
       "      <td>0</td>\n",
       "      <td>Class_1</td>\n",
       "    </tr>\n",
       "  </tbody>\n",
       "</table>\n",
       "<p>5 rows × 95 columns</p>\n",
       "</div>"
      ],
      "text/plain": [
       "   id  feat_1  feat_2  feat_3  feat_4  feat_5  feat_6  feat_7  feat_8  feat_9  \\\n",
       "0   1       1       0       0       0       0       0       0       0       0   \n",
       "1   2       0       0       0       0       0       0       0       1       0   \n",
       "2   3       0       0       0       0       0       0       0       1       0   \n",
       "3   4       1       0       0       1       6       1       5       0       0   \n",
       "4   5       0       0       0       0       0       0       0       0       0   \n",
       "\n",
       "    ...     feat_85  feat_86  feat_87  feat_88  feat_89  feat_90  feat_91  \\\n",
       "0   ...           1        0        0        0        0        0        0   \n",
       "1   ...           0        0        0        0        0        0        0   \n",
       "2   ...           0        0        0        0        0        0        0   \n",
       "3   ...           0        1        2        0        0        0        0   \n",
       "4   ...           1        0        0        0        0        1        0   \n",
       "\n",
       "   feat_92  feat_93   target  \n",
       "0        0        0  Class_1  \n",
       "1        0        0  Class_1  \n",
       "2        0        0  Class_1  \n",
       "3        0        0  Class_1  \n",
       "4        0        0  Class_1  \n",
       "\n",
       "[5 rows x 95 columns]"
      ]
     },
     "execution_count": 1,
     "metadata": {},
     "output_type": "execute_result"
    }
   ],
   "source": [
    "import pandas as pd\n",
    "import numpy as np\n",
    "import matplotlib.pyplot as plt\n",
    "\n",
    "df = pd.read_csv('otto_group.csv')\n",
    "df.head()"
   ]
  },
  {
   "cell_type": "code",
   "execution_count": 2,
   "metadata": {
    "scrolled": true
   },
   "outputs": [
    {
     "name": "stdout",
     "output_type": "stream",
     "text": [
      "<class 'pandas.core.frame.DataFrame'>\n",
      "RangeIndex: 61878 entries, 0 to 61877\n",
      "Data columns (total 95 columns):\n",
      "id         61878 non-null int64\n",
      "feat_1     61878 non-null int64\n",
      "feat_2     61878 non-null int64\n",
      "feat_3     61878 non-null int64\n",
      "feat_4     61878 non-null int64\n",
      "feat_5     61878 non-null int64\n",
      "feat_6     61878 non-null int64\n",
      "feat_7     61878 non-null int64\n",
      "feat_8     61878 non-null int64\n",
      "feat_9     61878 non-null int64\n",
      "feat_10    61878 non-null int64\n",
      "feat_11    61878 non-null int64\n",
      "feat_12    61878 non-null int64\n",
      "feat_13    61878 non-null int64\n",
      "feat_14    61878 non-null int64\n",
      "feat_15    61878 non-null int64\n",
      "feat_16    61878 non-null int64\n",
      "feat_17    61878 non-null int64\n",
      "feat_18    61878 non-null int64\n",
      "feat_19    61878 non-null int64\n",
      "feat_20    61878 non-null int64\n",
      "feat_21    61878 non-null int64\n",
      "feat_22    61878 non-null int64\n",
      "feat_23    61878 non-null int64\n",
      "feat_24    61878 non-null int64\n",
      "feat_25    61878 non-null int64\n",
      "feat_26    61878 non-null int64\n",
      "feat_27    61878 non-null int64\n",
      "feat_28    61878 non-null int64\n",
      "feat_29    61878 non-null int64\n",
      "feat_30    61878 non-null int64\n",
      "feat_31    61878 non-null int64\n",
      "feat_32    61878 non-null int64\n",
      "feat_33    61878 non-null int64\n",
      "feat_34    61878 non-null int64\n",
      "feat_35    61878 non-null int64\n",
      "feat_36    61878 non-null int64\n",
      "feat_37    61878 non-null int64\n",
      "feat_38    61878 non-null int64\n",
      "feat_39    61878 non-null int64\n",
      "feat_40    61878 non-null int64\n",
      "feat_41    61878 non-null int64\n",
      "feat_42    61878 non-null int64\n",
      "feat_43    61878 non-null int64\n",
      "feat_44    61878 non-null int64\n",
      "feat_45    61878 non-null int64\n",
      "feat_46    61878 non-null int64\n",
      "feat_47    61878 non-null int64\n",
      "feat_48    61878 non-null int64\n",
      "feat_49    61878 non-null int64\n",
      "feat_50    61878 non-null int64\n",
      "feat_51    61878 non-null int64\n",
      "feat_52    61878 non-null int64\n",
      "feat_53    61878 non-null int64\n",
      "feat_54    61878 non-null int64\n",
      "feat_55    61878 non-null int64\n",
      "feat_56    61878 non-null int64\n",
      "feat_57    61878 non-null int64\n",
      "feat_58    61878 non-null int64\n",
      "feat_59    61878 non-null int64\n",
      "feat_60    61878 non-null int64\n",
      "feat_61    61878 non-null int64\n",
      "feat_62    61878 non-null int64\n",
      "feat_63    61878 non-null int64\n",
      "feat_64    61878 non-null int64\n",
      "feat_65    61878 non-null int64\n",
      "feat_66    61878 non-null int64\n",
      "feat_67    61878 non-null int64\n",
      "feat_68    61878 non-null int64\n",
      "feat_69    61878 non-null int64\n",
      "feat_70    61878 non-null int64\n",
      "feat_71    61878 non-null int64\n",
      "feat_72    61878 non-null int64\n",
      "feat_73    61878 non-null int64\n",
      "feat_74    61878 non-null int64\n",
      "feat_75    61878 non-null int64\n",
      "feat_76    61878 non-null int64\n",
      "feat_77    61878 non-null int64\n",
      "feat_78    61878 non-null int64\n",
      "feat_79    61878 non-null int64\n",
      "feat_80    61878 non-null int64\n",
      "feat_81    61878 non-null int64\n",
      "feat_82    61878 non-null int64\n",
      "feat_83    61878 non-null int64\n",
      "feat_84    61878 non-null int64\n",
      "feat_85    61878 non-null int64\n",
      "feat_86    61878 non-null int64\n",
      "feat_87    61878 non-null int64\n",
      "feat_88    61878 non-null int64\n",
      "feat_89    61878 non-null int64\n",
      "feat_90    61878 non-null int64\n",
      "feat_91    61878 non-null int64\n",
      "feat_92    61878 non-null int64\n",
      "feat_93    61878 non-null int64\n",
      "target     61878 non-null object\n",
      "dtypes: int64(94), object(1)\n",
      "memory usage: 44.8+ MB\n"
     ]
    }
   ],
   "source": [
    "df.info()"
   ]
  },
  {
   "cell_type": "code",
   "execution_count": 3,
   "metadata": {},
   "outputs": [
    {
     "data": {
      "text/plain": [
       "95"
      ]
     },
     "execution_count": 3,
     "metadata": {},
     "output_type": "execute_result"
    }
   ],
   "source": [
    "# no missing data\n",
    "missing = []\n",
    "\n",
    "for col in df.columns:\n",
    "    if df[col].isna().sum() == 0:\n",
    "        missing.append({col: df[col].isna().sum()})\n",
    "\n",
    "len(missing)"
   ]
  },
  {
   "cell_type": "code",
   "execution_count": 4,
   "metadata": {},
   "outputs": [
    {
     "data": {
      "text/plain": [
       "False"
      ]
     },
     "execution_count": 4,
     "metadata": {},
     "output_type": "execute_result"
    }
   ],
   "source": [
    "df.isna().any().any()"
   ]
  },
  {
   "cell_type": "code",
   "execution_count": 5,
   "metadata": {},
   "outputs": [
    {
     "data": {
      "text/plain": [
       "0"
      ]
     },
     "execution_count": 5,
     "metadata": {},
     "output_type": "execute_result"
    }
   ],
   "source": [
    "df.isna().sum().sum()"
   ]
  },
  {
   "cell_type": "code",
   "execution_count": 6,
   "metadata": {},
   "outputs": [
    {
     "data": {
      "image/png": "[encoded data removed]",
      "text/plain": [
       "<Figure size 2160x1440 with 100 Axes>"
      ]
     },
     "metadata": {
      "needs_background": "light"
     },
     "output_type": "display_data"
    }
   ],
   "source": [
    "df.hist(figsize=(30,20), sharey=True)\n",
    "plt.tight_layout();"
   ]
  },
  {
   "cell_type": "markdown",
   "metadata": {},
   "source": [
    "If you look at all the histograms, you can tell that a lot of the data are zero-inflated, so most of the variables contain mostly zeros and then some higher values here and there. No normality, but for most machine learning techniques this is not an issue. "
   ]
  },
  {
   "cell_type": "code",
   "execution_count": 7,
   "metadata": {},
   "outputs": [
    {
     "data": {
      "image/png": "[encoded data removed]",
      "text/plain": [
       "<Figure size 1080x720 with 1 Axes>"
      ]
     },
     "metadata": {
      "needs_background": "light"
     },
     "output_type": "display_data"
    }
   ],
   "source": [
    "feat = df.loc[:, 'feat_1':'feat_30']\n",
    "feat.boxplot(figsize=(15,10));"
   ]
  },
  {
   "cell_type": "markdown",
   "metadata": {},
   "source": [
    "Because the data is zero-inflated the boxplots look as shown above. Because there are this many zeroes, most values above zero will seem to be outliers. The safe decision for this data is to not delete any outliers and see what happens. With many 0s, sparse data is available and high values may be super informative. More-over, without having any intuitive meaning for each of the features, we don't know if a value of ~260 is actually an outlier."
   ]
  },
  {
   "cell_type": "markdown",
   "metadata": {},
   "source": [
    "## Feature engineering and selection with PCA"
   ]
  },
  {
   "cell_type": "markdown",
   "metadata": {},
   "source": [
    "Have a look at the correlation structure of your features using a heatmap."
   ]
  },
  {
   "cell_type": "code",
   "execution_count": 8,
   "metadata": {},
   "outputs": [
    {
     "data": {
      "image/png": "[encoded data removed]",
      "text/plain": [
       "<Figure size 1080x720 with 2 Axes>"
      ]
     },
     "metadata": {
      "needs_background": "light"
     },
     "output_type": "display_data"
    }
   ],
   "source": [
    "feat = df.loc[:, 'feat_1':'feat_93']\n",
    "\n",
    "import seaborn as sns\n",
    "\n",
    "fig = plt.figure(figsize=(15, 10))\n",
    "sns.heatmap(feat.corr(), center=0);"
   ]
  },
  {
   "cell_type": "markdown",
   "metadata": {},
   "source": [
    "Use PCA to downscale your features. Use PCA to select a number of features in a way that you still keep 80% of your explained variance."
   ]
  },
  {
   "cell_type": "code",
   "execution_count": 9,
   "metadata": {},
   "outputs": [
    {
     "ename": "NameError",
     "evalue": "name 'PCA' is not defined",
     "output_type": "error",
     "traceback": [
      "\u001b[1;31m---------------------------------------------------------------------------\u001b[0m",
      "\u001b[1;31mNameError\u001b[0m                                 Traceback (most recent call last)",
      "\u001b[1;32m<ipython-input-9-41c6250c79e1>\u001b[0m in \u001b[0;36m<module>\u001b[1;34m()\u001b[0m\n\u001b[1;32m----> 1\u001b[1;33m \u001b[0mpca_1\u001b[0m \u001b[1;33m=\u001b[0m \u001b[0mPCA\u001b[0m\u001b[1;33m(\u001b[0m\u001b[0mn_components\u001b[0m\u001b[1;33m=\u001b[0m\u001b[1;36m20\u001b[0m\u001b[1;33m)\u001b[0m\u001b[1;33m\u001b[0m\u001b[0m\n\u001b[0m\u001b[0;32m      2\u001b[0m \u001b[0mpca_2\u001b[0m \u001b[1;33m=\u001b[0m \u001b[0mPCA\u001b[0m\u001b[1;33m(\u001b[0m\u001b[0mn_components\u001b[0m\u001b[1;33m=\u001b[0m\u001b[1;36m40\u001b[0m\u001b[1;33m)\u001b[0m\u001b[1;33m\u001b[0m\u001b[0m\n\u001b[0;32m      3\u001b[0m \u001b[0mpca_3\u001b[0m \u001b[1;33m=\u001b[0m \u001b[0mPCA\u001b[0m\u001b[1;33m(\u001b[0m\u001b[0mn_components\u001b[0m\u001b[1;33m=\u001b[0m\u001b[1;36m60\u001b[0m\u001b[1;33m)\u001b[0m\u001b[1;33m\u001b[0m\u001b[0m\n\u001b[0;32m      4\u001b[0m \u001b[1;33m\u001b[0m\u001b[0m\n\u001b[0;32m      5\u001b[0m \u001b[0mprincipalComponents\u001b[0m \u001b[1;33m=\u001b[0m \u001b[0mpca_1\u001b[0m\u001b[1;33m.\u001b[0m\u001b[0mfit_transform\u001b[0m\u001b[1;33m(\u001b[0m\u001b[0mfeat\u001b[0m\u001b[1;33m)\u001b[0m\u001b[1;33m\u001b[0m\u001b[0m\n",
      "\u001b[1;31mNameError\u001b[0m: name 'PCA' is not defined"
     ]
    }
   ],
   "source": [
    "pca_1 = PCA(n_components=20)\n",
    "pca_2 = PCA(n_components=40)\n",
    "pca_3 = PCA(n_components=60)\n",
    "\n",
    "principalComponents = pca_1.fit_transform(feat)\n",
    "principalComponents = pca_2.fit_transform(feat)\n",
    "principalComponents = pca_3.fit_transform(feat)\n",
    "\n",
    "print(np.sum(pca_1.explained_variance_ratio_))\n",
    "print(np.sum(pca_2.explained_variance_ratio_))\n",
    "print(np.sum(pca_3.explained_variance_ratio_))\n",
    "\n",
    "pca = PCA(n_components=27)\n",
    "principalComponents = pca.fit_transform(feat)\n",
    "print(np.sum(pca.explained_variance_ratio_))"
   ]
  },
  {
   "cell_type": "code",
   "execution_count": 10,
   "metadata": {},
   "outputs": [
    {
     "name": "stdout",
     "output_type": "stream",
     "text": [
      "0.8006377950623731\n",
      "27\n"
     ]
    }
   ],
   "source": [
    "from sklearn.decomposition import PCA\n",
    "\n",
    "pca = PCA(0.80)\n",
    "principleComponents = pca.fit_transform(feat)\n",
    "\n",
    "print(np.sum(pca.explained_variance_ratio_))\n",
    "print(pca.n_components_)"
   ]
  },
  {
   "cell_type": "markdown",
   "metadata": {},
   "source": [
    "## Create a train test split with a test size of 40%"
   ]
  },
  {
   "cell_type": "markdown",
   "metadata": {},
   "source": [
    "This is a relatively big training set. Feel free to make it smaller (down to ~20%), but for an initial run you can try smaller training sets so the computation time is more manageable.\n",
    "\n",
    "For now, simply use the original data and not the principal components. We looked at the PC's first to get a sense of our correlation structure, and to see how we can downsize our data without losing too much information. In what's next, you'll make PCA part of the pipeline!!"
   ]
  },
  {
   "cell_type": "code",
   "execution_count": 11,
   "metadata": {},
   "outputs": [],
   "source": [
    "y = df['target']\n",
    "X = df.loc[:, 'feat_1':'feat_93']"
   ]
  },
  {
   "cell_type": "code",
   "execution_count": 12,
   "metadata": {},
   "outputs": [],
   "source": [
    "from sklearn.model_selection import train_test_split\n",
    "\n",
    "X_train, X_test, y_train, y_test = train_test_split(X, y, test_size=0.4, random_state=43)"
   ]
  },
  {
   "cell_type": "markdown",
   "metadata": {},
   "source": [
    "## Create a baseline model"
   ]
  },
  {
   "cell_type": "markdown",
   "metadata": {},
   "source": [
    "Create your baseline model *in a pipeline setting*. In the pipeline\n",
    "- Your first step will be to scale your features down to the number of features that ensure you keep just 80% of your explained variance (which we saw before)\n",
    "- Your second step will be the building a basic logistic regression model.\n",
    "\n",
    "Make sure to fit the model using the training set, and test the result by obtaining the accuracy using the test set."
   ]
  },
  {
   "cell_type": "code",
   "execution_count": 13,
   "metadata": {},
   "outputs": [],
   "source": [
    "from sklearn.linear_model import LogisticRegression\n",
    "from sklearn.pipeline import Pipeline"
   ]
  },
  {
   "cell_type": "code",
   "execution_count": 14,
   "metadata": {},
   "outputs": [
    {
     "name": "stderr",
     "output_type": "stream",
     "text": [
      "C:\\Users\\Danyal\\Anaconda3\\envs\\learn-env\\lib\\site-packages\\sklearn\\linear_model\\logistic.py:433: FutureWarning: Default solver will be changed to 'lbfgs' in 0.22. Specify a solver to silence this warning.\n",
      "  FutureWarning)\n",
      "C:\\Users\\Danyal\\Anaconda3\\envs\\learn-env\\lib\\site-packages\\sklearn\\linear_model\\logistic.py:460: FutureWarning: Default multi_class will be changed to 'auto' in 0.22. Specify the multi_class option to silence this warning.\n",
      "  \"this warning.\", FutureWarning)\n"
     ]
    },
    {
     "name": "stdout",
     "output_type": "stream",
     "text": [
      "0.7175294941550396\n"
     ]
    }
   ],
   "source": [
    "pipe_lr = Pipeline([('pca', PCA(n_components=27, random_state=123)), \n",
    "                    ('clf', LogisticRegression(random_state=123))])\n",
    "\n",
    "pipe_lr.fit(X_train, y_train)\n",
    "\n",
    "print(pipe_lr.score(X_train, y_train))"
   ]
  },
  {
   "cell_type": "code",
   "execution_count": 15,
   "metadata": {},
   "outputs": [
    {
     "data": {
      "text/plain": [
       "0.7184873949579832"
      ]
     },
     "execution_count": 15,
     "metadata": {},
     "output_type": "execute_result"
    }
   ],
   "source": [
    "np.sum(pipe_lr.predict(X_test) == y_test)/len(y_test)"
   ]
  },
  {
   "cell_type": "markdown",
   "metadata": {},
   "source": [
    "## Create a pipeline consisting of a linear SVM, a simple Decision Tree and a simple Random Forest Classifier"
   ]
  },
  {
   "cell_type": "markdown",
   "metadata": {},
   "source": [
    "Repeat the above, but now create three different pipelines:\n",
    "- One for a standard linear SCM\n",
    "- One for a default decision tree\n",
    "- One for a RandomForestClassifier"
   ]
  },
  {
   "cell_type": "code",
   "execution_count": 16,
   "metadata": {},
   "outputs": [
    {
     "name": "stdout",
     "output_type": "stream",
     "text": [
      "Pipeline(memory=None,\n",
      "     steps=[('pca', PCA(copy=True, iterated_power='auto', n_components=27, random_state=None,\n",
      "  svd_solver='auto', tol=0.0, whiten=False)), ('clf', SVC(C=1.0, cache_size=200, class_weight=None, coef0=0.0,\n",
      "  decision_function_shape='ovr', degree=3, gamma='auto_deprecated',\n",
      "  kernel='rbf', max_iter=-1, probability=False, random_state=123,\n",
      "  shrinking=True, tol=0.001, verbose=False))])\n"
     ]
    },
    {
     "name": "stderr",
     "output_type": "stream",
     "text": [
      "C:\\Users\\Danyal\\Anaconda3\\envs\\learn-env\\lib\\site-packages\\sklearn\\svm\\base.py:196: FutureWarning: The default value of gamma will change from 'auto' to 'scale' in version 0.22 to account better for unscaled features. Set gamma explicitly to 'auto' or 'scale' to avoid this warning.\n",
      "  \"avoid this warning.\", FutureWarning)\n"
     ]
    },
    {
     "name": "stdout",
     "output_type": "stream",
     "text": [
      "Pipeline(memory=None,\n",
      "     steps=[('pca', PCA(copy=True, iterated_power='auto', n_components=27, random_state=None,\n",
      "  svd_solver='auto', tol=0.0, whiten=False)), ('clf', DecisionTreeClassifier(class_weight=None, criterion='gini', max_depth=None,\n",
      "            max_features=None, max_leaf_nodes=None,\n",
      "            min_impurity_decrease=0.0, min_impurity_split=None,\n",
      "            min_samples_leaf=1, min_samples_split=2,\n",
      "            min_weight_fraction_leaf=0.0, presort=False, random_state=123,\n",
      "            splitter='best'))])\n",
      "Pipeline(memory=None,\n",
      "     steps=[('pca', PCA(copy=True, iterated_power='auto', n_components=27, random_state=None,\n",
      "  svd_solver='auto', tol=0.0, whiten=False)), ('clf', RandomForestClassifier(bootstrap=True, class_weight=None, criterion='gini',\n",
      "            max_depth=None, max_features='auto', max_leaf_nodes=None,\n",
      "           ...s='warn', n_jobs=None,\n",
      "            oob_score=False, random_state=123, verbose=0, warm_start=False))])\n"
     ]
    },
    {
     "name": "stderr",
     "output_type": "stream",
     "text": [
      "C:\\Users\\Danyal\\Anaconda3\\envs\\learn-env\\lib\\site-packages\\sklearn\\ensemble\\forest.py:246: FutureWarning: The default value of n_estimators will change from 10 in version 0.20 to 100 in 0.22.\n",
      "  \"10 in version 0.20 to 100 in 0.22.\", FutureWarning)\n"
     ]
    },
    {
     "name": "stdout",
     "output_type": "stream",
     "text": [
      "Support Vector Machine pipeline test accuracy: 0.750\n",
      "Decision Tree pipeline test accuracy: 0.670\n",
      "Random Forest pipeline test accuracy: 0.743\n"
     ]
    }
   ],
   "source": [
    "from sklearn import svm\n",
    "from sklearn.pipeline import Pipeline\n",
    "from sklearn.ensemble import RandomForestClassifier\n",
    "from sklearn import tree\n",
    "\n",
    "# Construct some pipelines\n",
    "pipe_svm = Pipeline([('pca', PCA(n_components=27)),\n",
    "        ('clf', svm.SVC(random_state=123))])\n",
    "        \n",
    "pipe_tree = Pipeline([('pca', PCA(n_components=27)),\n",
    "        ('clf', tree.DecisionTreeClassifier(random_state=123))])\n",
    "\n",
    "pipe_rf = Pipeline([('pca', PCA(n_components=27)),\n",
    "        ('clf', RandomForestClassifier(random_state=123))])\n",
    "\n",
    "# List of pipelines, List of pipeline names\n",
    "pipelines = [pipe_svm, pipe_tree, pipe_rf]\n",
    "pipeline_names = ['Support Vector Machine','Decision Tree','Random Forest']\n",
    "\n",
    "# Loop to fit each of the three pipelines\n",
    "for pipe in pipelines:\n",
    "    print(pipe)\n",
    "    pipe.fit(X_train, y_train)\n",
    "\n",
    "# Compare accuracies\n",
    "for index, val in enumerate(pipelines):\n",
    "    print('%s pipeline test accuracy: %.3f' % (pipeline_names[index], val.score(X_test, y_test)))"
   ]
  },
  {
   "cell_type": "markdown",
   "metadata": {},
   "source": [
    "## Pipeline with grid search"
   ]
  },
  {
   "cell_type": "markdown",
   "metadata": {},
   "source": [
    "Construct 3 pipelines with grid search\n",
    "- one for support vector machines - make sure your grid isn't too big. You'll see it takes quite a while to fit SVMs with non-linear kernel functions!\n",
    "- one for random forests - try to have around 40 different models\n",
    "- one for the adaboost algorithm. "
   ]
  },
  {
   "cell_type": "markdown",
   "metadata": {},
   "source": [
    "### SVM pipeline with grid search"
   ]
  },
  {
   "cell_type": "code",
   "execution_count": 17,
   "metadata": {},
   "outputs": [],
   "source": [
    "from sklearn import svm\n",
    "from sklearn.model_selection import GridSearchCV\n",
    "from sklearn.pipeline import Pipeline"
   ]
  },
  {
   "cell_type": "code",
   "execution_count": 19,
   "metadata": {},
   "outputs": [
    {
     "name": "stdout",
     "output_type": "stream",
     "text": [
      "Fitting 3 folds for each of 7 candidates, totalling 21 fits\n"
     ]
    },
    {
     "name": "stderr",
     "output_type": "stream",
     "text": [
      "[Parallel(n_jobs=-1)]: Using backend LokyBackend with 16 concurrent workers.\n",
      "[Parallel(n_jobs=-1)]: Done  12 out of  21 | elapsed:  3.1min remaining:  2.4min\n",
      "[Parallel(n_jobs=-1)]: Done  21 out of  21 | elapsed: 18.9min finished\n"
     ]
    },
    {
     "name": "stdout",
     "output_type": "stream",
     "text": [
      "Best accuracy: 0.770\n",
      "\n",
      "Best params:\n",
      " {'clf__C': 10, 'clf__gamma': 0.01, 'clf__kernel': 'rbf'}\n"
     ]
    }
   ],
   "source": [
    "# Construct pipeline\n",
    "pipe_svm = Pipeline([('pca', PCA(n_components=27)),\n",
    "            ('clf', svm.SVC(random_state=123))])\n",
    "\n",
    "# Set grid search params\n",
    "param_grid_svm = [\n",
    "  {'clf__C': [0.1, 1, 10]  , 'clf__kernel': ['linear']},\n",
    "  {'clf__C': [1, 10], 'clf__gamma': [0.001, 0.01], 'clf__kernel': ['rbf']},\n",
    " ]\n",
    "\n",
    "# Construct grid search\n",
    "gs_svm = GridSearchCV(estimator=pipe_svm,\n",
    "            param_grid=param_grid_svm,\n",
    "            scoring='accuracy',\n",
    "            cv=3, verbose=2, return_train_score = True,\n",
    "            n_jobs=-1)\n",
    "\n",
    "# Fit using grid search\n",
    "gs_svm.fit(X_train, y_train)\n",
    "\n",
    "# Best accuracy\n",
    "print('Best accuracy: %.3f' % gs_svm.best_score_)\n",
    "\n",
    "# Best params\n",
    "print('\\nBest params:\\n', gs_svm.best_params_)"
   ]
  },
  {
   "cell_type": "markdown",
   "metadata": {},
   "source": [
    "Use your grid search object along with `.cv_results` to get the full result overview"
   ]
  },
  {
   "cell_type": "code",
   "execution_count": 20,
   "metadata": {},
   "outputs": [
    {
     "data": {
      "text/plain": [
       "{'mean_fit_time': array([ 70.69142556, 180.30238152, 956.04379328,  72.56499211,\n",
       "         92.68548067,  56.03483597,  58.62300007]),\n",
       " 'std_fit_time': array([  3.33880686,  15.13699244, 131.765938  ,   1.09709819,\n",
       "         11.95278651,   4.14900001,   6.05115619]),\n",
       " 'mean_score_time': array([15.54633196,  5.84955486,  3.67406623, 21.12432686, 20.97620281,\n",
       "         8.91278378,  7.48392177]),\n",
       " 'std_score_time': array([2.92575507, 1.12659856, 0.02278525, 0.57549801, 1.63812144,\n",
       "        0.76017722, 0.14046044]),\n",
       " 'param_clf__C': masked_array(data=[0.1, 1, 10, 1, 1, 10, 10],\n",
       "              mask=[False, False, False, False, False, False, False],\n",
       "        fill_value='?',\n",
       "             dtype=object),\n",
       " 'param_clf__kernel': masked_array(data=['linear', 'linear', 'linear', 'rbf', 'rbf', 'rbf',\n",
       "                    'rbf'],\n",
       "              mask=[False, False, False, False, False, False, False],\n",
       "        fill_value='?',\n",
       "             dtype=object),\n",
       " 'param_clf__gamma': masked_array(data=[--, --, --, 0.001, 0.01, 0.001, 0.01],\n",
       "              mask=[ True,  True,  True, False, False, False, False],\n",
       "        fill_value='?',\n",
       "             dtype=object),\n",
       " 'params': [{'clf__C': 0.1, 'clf__kernel': 'linear'},\n",
       "  {'clf__C': 1, 'clf__kernel': 'linear'},\n",
       "  {'clf__C': 10, 'clf__kernel': 'linear'},\n",
       "  {'clf__C': 1, 'clf__gamma': 0.001, 'clf__kernel': 'rbf'},\n",
       "  {'clf__C': 1, 'clf__gamma': 0.01, 'clf__kernel': 'rbf'},\n",
       "  {'clf__C': 10, 'clf__gamma': 0.001, 'clf__kernel': 'rbf'},\n",
       "  {'clf__C': 10, 'clf__gamma': 0.01, 'clf__kernel': 'rbf'}],\n",
       " 'split0_test_score': array([0.73186298, 0.73622556, 0.73541768, 0.73687187, 0.75900792,\n",
       "        0.75731136, 0.77136856]),\n",
       " 'split1_test_score': array([0.73527273, 0.73616162, 0.73422222, 0.73640404, 0.75692929,\n",
       "        0.75951515, 0.77365657]),\n",
       " 'split2_test_score': array([0.73716964, 0.73805868, 0.73725046, 0.7385436 , 0.75891053,\n",
       "        0.75656672, 0.76497212]),\n",
       " 'mean_test_score': array([0.73476809, 0.73681517, 0.73563002, 0.73727307, 0.75828261,\n",
       "        0.75779777, 0.76999946]),\n",
       " 'std_test_score': array([0.00219564, 0.00087955, 0.0012453 , 0.00091836, 0.00095774,\n",
       "        0.00125182, 0.00367506]),\n",
       " 'rank_test_score': array([7, 5, 6, 4, 2, 3, 1]),\n",
       " 'split0_train_score': array([0.73832229, 0.74098917, 0.74046388, 0.74486827, 0.79594311,\n",
       "        0.77242605, 0.86019072]),\n",
       " 'split1_train_score': array([0.74013171, 0.74247505, 0.74017211, 0.74251545, 0.79160438,\n",
       "        0.76914064, 0.8573391 ]),\n",
       " 'split2_train_score': array([0.73914273, 0.74120309, 0.7407587 , 0.74087989, 0.79521674,\n",
       "        0.77227003, 0.86219852]),\n",
       " 'mean_train_score': array([0.73919891, 0.74155577, 0.7404649 , 0.74275454, 0.79425474,\n",
       "        0.77127891, 0.85990945]),\n",
       " 'std_train_score': array([0.00073976, 0.00065587, 0.00023947, 0.001637  , 0.00189741,\n",
       "        0.00151332, 0.0019938 ])}"
      ]
     },
     "execution_count": 20,
     "metadata": {},
     "output_type": "execute_result"
    }
   ],
   "source": [
    "gs_svm.cv_results_"
   ]
  },
  {
   "cell_type": "markdown",
   "metadata": {},
   "source": [
    "### Random Forest pipeline with grid search"
   ]
  },
  {
   "cell_type": "code",
   "execution_count": 21,
   "metadata": {},
   "outputs": [
    {
     "name": "stdout",
     "output_type": "stream",
     "text": [
      "Fitting 3 folds for each of 54 candidates, totalling 162 fits\n"
     ]
    },
    {
     "name": "stderr",
     "output_type": "stream",
     "text": [
      "[Parallel(n_jobs=-1)]: Using backend LokyBackend with 16 concurrent workers.\n",
      "[Parallel(n_jobs=-1)]: Done   9 tasks      | elapsed:   19.2s\n",
      "[Parallel(n_jobs=-1)]: Done 130 tasks      | elapsed:  1.6min\n",
      "[Parallel(n_jobs=-1)]: Done 162 out of 162 | elapsed:  1.8min finished\n"
     ]
    },
    {
     "name": "stdout",
     "output_type": "stream",
     "text": [
      "Best accuracy: 0.625\n",
      "\n",
      "Best params:\n",
      " {'clf__criterion': 'gini', 'clf__max_depth': 6, 'clf__min_samples_leaf': 0.05, 'clf__min_samples_split': 0.1, 'clf__n_estimators': 120}\n"
     ]
    }
   ],
   "source": [
    "# Construct pipeline\n",
    "pipe_rf = Pipeline([('pca', PCA(n_components=27)),\n",
    "            ('clf', RandomForestClassifier(random_state = 123))])\n",
    "\n",
    "# Set grid search params\n",
    "param_grid_forest = [ \n",
    "  {'clf__n_estimators': [120],\n",
    "   'clf__criterion': ['entropy', 'gini'], \n",
    "   'clf__max_depth': [4, 5, 6],  \n",
    "   'clf__min_samples_leaf':[0.05 ,0.1, 0.2],  \n",
    "   'clf__min_samples_split':[0.05 ,0.1, 0.2]\n",
    "  }\n",
    "]\n",
    "\n",
    "# Construct grid search\n",
    "gs_rf = GridSearchCV(estimator=pipe_rf,\n",
    "            param_grid=param_grid_forest,\n",
    "            scoring='accuracy',\n",
    "            cv=3, verbose=2, return_train_score = True,\n",
    "            n_jobs=-1)\n",
    "\n",
    "# Fit using grid search\n",
    "gs_rf.fit(X_train, y_train)\n",
    "\n",
    "# Best accuracy\n",
    "print('Best accuracy: %.3f' % gs_rf.best_score_)\n",
    "\n",
    "# Best params\n",
    "print('\\nBest params:\\n', gs_rf.best_params_)"
   ]
  },
  {
   "cell_type": "code",
   "execution_count": 23,
   "metadata": {
    "scrolled": false
   },
   "outputs": [
    {
     "data": {
      "text/plain": [
       "{'mean_fit_time': array([18.39704561, 18.80872377, 16.30462726, 11.45957661, 11.28142643,\n",
       "        12.07042249,  5.65205717,  5.67474333,  6.15280994, 19.23707747,\n",
       "        19.07160401, 16.30929716, 10.95916001, 10.96716754, 11.92096527,\n",
       "         5.79484272,  5.7371285 ,  5.92862185, 18.91347448, 18.81606023,\n",
       "        16.13415599, 10.85140427, 10.73764181, 12.02105037,  5.7211171 ,\n",
       "         5.81385819,  5.86790514,  7.55197946,  7.68275611,  7.09960206,\n",
       "         6.42170294,  6.41736563,  6.79301095,  4.45705867,  4.62352983,\n",
       "         4.91477418,  9.44355965,  9.17867621,  7.57099795,  5.93929482,\n",
       "         5.86023267,  6.99851775,  5.21435817,  4.61385473,  4.31293821,\n",
       "         8.82504034,  9.01953912,  7.54364093,  6.15914798,  6.02703881,\n",
       "         6.19884864,  4.40234661,  3.89825598,  3.55196754]),\n",
       " 'std_fit_time': array([0.17632463, 0.00920897, 0.10641748, 0.08591411, 0.198202  ,\n",
       "        0.54431973, 0.10796015, 0.07383496, 0.20108685, 0.11076315,\n",
       "        0.1098286 , 0.19273531, 0.20797353, 0.18955855, 0.59163965,\n",
       "        0.19244689, 0.26196245, 0.37257754, 0.03309613, 0.20533007,\n",
       "        0.21872281, 0.05142653, 0.15557853, 0.62384283, 0.13239641,\n",
       "        0.12469454, 0.18627512, 0.1646901 , 0.18730631, 0.09599819,\n",
       "        0.12333966, 0.28949739, 0.19976875, 0.0896156 , 0.3475514 ,\n",
       "        0.18474813, 0.1947183 , 0.07752984, 0.33239328, 0.21193915,\n",
       "        0.10267404, 0.33759216, 0.26069475, 0.25450615, 0.19408442,\n",
       "        0.17162265, 0.36614348, 0.19898923, 0.22535285, 0.20697993,\n",
       "        0.06441791, 0.12362267, 0.15407531, 0.21555406]),\n",
       " 'mean_score_time': array([0.29224563, 0.40567215, 0.24687378, 0.27890158, 0.25721606,\n",
       "        0.25054336, 0.28490655, 0.24153686, 0.24120132, 0.29357831,\n",
       "        0.30925941, 0.29591322, 0.21517968, 0.26155162, 0.26955875,\n",
       "        0.22418745, 0.24854159, 0.29358077, 0.25621446, 0.26222038,\n",
       "        0.34662088, 0.22518849, 0.2652216 , 0.28957462, 0.25788267,\n",
       "        0.23453013, 0.26889062, 0.25754857, 0.32593966, 0.29257766,\n",
       "        0.34762359, 0.33694927, 0.41935349, 0.2982506 , 0.37664859,\n",
       "        0.36196884, 0.30392305, 0.48740466, 0.40867392, 0.2975835 ,\n",
       "        0.47673305, 0.48540481, 0.33594855, 0.31860161, 0.35663128,\n",
       "        0.27356227, 0.34195328, 0.37297853, 0.2929132 , 0.35363158,\n",
       "        0.29258013, 0.21084301, 0.17014321, 0.19683186]),\n",
       " 'std_score_time': array([0.03152448, 0.0203027 , 0.01185103, 0.02208158, 0.02141781,\n",
       "        0.01597811, 0.03720326, 0.02521907, 0.01396353, 0.00826627,\n",
       "        0.01792396, 0.04542109, 0.00849208, 0.03876478, 0.0477919 ,\n",
       "        0.01559104, 0.03212378, 0.03899019, 0.02679312, 0.01526847,\n",
       "        0.06558078, 0.00326847, 0.01152965, 0.01553085, 0.00772467,\n",
       "        0.01718752, 0.00954251, 0.0102833 , 0.03524576, 0.00694994,\n",
       "        0.02668482, 0.00940036, 0.08587134, 0.01284223, 0.04926486,\n",
       "        0.05721282, 0.02410936, 0.03291522, 0.07365193, 0.03655917,\n",
       "        0.03473181, 0.0286748 , 0.032853  , 0.00946936, 0.02317753,\n",
       "        0.02399771, 0.07097729, 0.01226757, 0.02077527, 0.03079673,\n",
       "        0.10308744, 0.00286975, 0.01123599, 0.00624146]),\n",
       " 'param_clf__criterion': masked_array(data=['entropy', 'entropy', 'entropy', 'entropy', 'entropy',\n",
       "                    'entropy', 'entropy', 'entropy', 'entropy', 'entropy',\n",
       "                    'entropy', 'entropy', 'entropy', 'entropy', 'entropy',\n",
       "                    'entropy', 'entropy', 'entropy', 'entropy', 'entropy',\n",
       "                    'entropy', 'entropy', 'entropy', 'entropy', 'entropy',\n",
       "                    'entropy', 'entropy', 'gini', 'gini', 'gini', 'gini',\n",
       "                    'gini', 'gini', 'gini', 'gini', 'gini', 'gini', 'gini',\n",
       "                    'gini', 'gini', 'gini', 'gini', 'gini', 'gini', 'gini',\n",
       "                    'gini', 'gini', 'gini', 'gini', 'gini', 'gini', 'gini',\n",
       "                    'gini', 'gini'],\n",
       "              mask=[False, False, False, False, False, False, False, False,\n",
       "                    False, False, False, False, False, False, False, False,\n",
       "                    False, False, False, False, False, False, False, False,\n",
       "                    False, False, False, False, False, False, False, False,\n",
       "                    False, False, False, False, False, False, False, False,\n",
       "                    False, False, False, False, False, False, False, False,\n",
       "                    False, False, False, False, False, False],\n",
       "        fill_value='?',\n",
       "             dtype=object),\n",
       " 'param_clf__max_depth': masked_array(data=[4, 4, 4, 4, 4, 4, 4, 4, 4, 5, 5, 5, 5, 5, 5, 5, 5, 5,\n",
       "                    6, 6, 6, 6, 6, 6, 6, 6, 6, 4, 4, 4, 4, 4, 4, 4, 4, 4,\n",
       "                    5, 5, 5, 5, 5, 5, 5, 5, 5, 6, 6, 6, 6, 6, 6, 6, 6, 6],\n",
       "              mask=[False, False, False, False, False, False, False, False,\n",
       "                    False, False, False, False, False, False, False, False,\n",
       "                    False, False, False, False, False, False, False, False,\n",
       "                    False, False, False, False, False, False, False, False,\n",
       "                    False, False, False, False, False, False, False, False,\n",
       "                    False, False, False, False, False, False, False, False,\n",
       "                    False, False, False, False, False, False],\n",
       "        fill_value='?',\n",
       "             dtype=object),\n",
       " 'param_clf__min_samples_leaf': masked_array(data=[0.05, 0.05, 0.05, 0.1, 0.1, 0.1, 0.2, 0.2, 0.2, 0.05,\n",
       "                    0.05, 0.05, 0.1, 0.1, 0.1, 0.2, 0.2, 0.2, 0.05, 0.05,\n",
       "                    0.05, 0.1, 0.1, 0.1, 0.2, 0.2, 0.2, 0.05, 0.05, 0.05,\n",
       "                    0.1, 0.1, 0.1, 0.2, 0.2, 0.2, 0.05, 0.05, 0.05, 0.1,\n",
       "                    0.1, 0.1, 0.2, 0.2, 0.2, 0.05, 0.05, 0.05, 0.1, 0.1,\n",
       "                    0.1, 0.2, 0.2, 0.2],\n",
       "              mask=[False, False, False, False, False, False, False, False,\n",
       "                    False, False, False, False, False, False, False, False,\n",
       "                    False, False, False, False, False, False, False, False,\n",
       "                    False, False, False, False, False, False, False, False,\n",
       "                    False, False, False, False, False, False, False, False,\n",
       "                    False, False, False, False, False, False, False, False,\n",
       "                    False, False, False, False, False, False],\n",
       "        fill_value='?',\n",
       "             dtype=object),\n",
       " 'param_clf__min_samples_split': masked_array(data=[0.05, 0.1, 0.2, 0.05, 0.1, 0.2, 0.05, 0.1, 0.2, 0.05,\n",
       "                    0.1, 0.2, 0.05, 0.1, 0.2, 0.05, 0.1, 0.2, 0.05, 0.1,\n",
       "                    0.2, 0.05, 0.1, 0.2, 0.05, 0.1, 0.2, 0.05, 0.1, 0.2,\n",
       "                    0.05, 0.1, 0.2, 0.05, 0.1, 0.2, 0.05, 0.1, 0.2, 0.05,\n",
       "                    0.1, 0.2, 0.05, 0.1, 0.2, 0.05, 0.1, 0.2, 0.05, 0.1,\n",
       "                    0.2, 0.05, 0.1, 0.2],\n",
       "              mask=[False, False, False, False, False, False, False, False,\n",
       "                    False, False, False, False, False, False, False, False,\n",
       "                    False, False, False, False, False, False, False, False,\n",
       "                    False, False, False, False, False, False, False, False,\n",
       "                    False, False, False, False, False, False, False, False,\n",
       "                    False, False, False, False, False, False, False, False,\n",
       "                    False, False, False, False, False, False],\n",
       "        fill_value='?',\n",
       "             dtype=object),\n",
       " 'param_clf__n_estimators': masked_array(data=[120, 120, 120, 120, 120, 120, 120, 120, 120, 120, 120,\n",
       "                    120, 120, 120, 120, 120, 120, 120, 120, 120, 120, 120,\n",
       "                    120, 120, 120, 120, 120, 120, 120, 120, 120, 120, 120,\n",
       "                    120, 120, 120, 120, 120, 120, 120, 120, 120, 120, 120,\n",
       "                    120, 120, 120, 120, 120, 120, 120, 120, 120, 120],\n",
       "              mask=[False, False, False, False, False, False, False, False,\n",
       "                    False, False, False, False, False, False, False, False,\n",
       "                    False, False, False, False, False, False, False, False,\n",
       "                    False, False, False, False, False, False, False, False,\n",
       "                    False, False, False, False, False, False, False, False,\n",
       "                    False, False, False, False, False, False, False, False,\n",
       "                    False, False, False, False, False, False],\n",
       "        fill_value='?',\n",
       "             dtype=object),\n",
       " 'params': [{'clf__criterion': 'entropy',\n",
       "   'clf__max_depth': 4,\n",
       "   'clf__min_samples_leaf': 0.05,\n",
       "   'clf__min_samples_split': 0.05,\n",
       "   'clf__n_estimators': 120},\n",
       "  {'clf__criterion': 'entropy',\n",
       "   'clf__max_depth': 4,\n",
       "   'clf__min_samples_leaf': 0.05,\n",
       "   'clf__min_samples_split': 0.1,\n",
       "   'clf__n_estimators': 120},\n",
       "  {'clf__criterion': 'entropy',\n",
       "   'clf__max_depth': 4,\n",
       "   'clf__min_samples_leaf': 0.05,\n",
       "   'clf__min_samples_split': 0.2,\n",
       "   'clf__n_estimators': 120},\n",
       "  {'clf__criterion': 'entropy',\n",
       "   'clf__max_depth': 4,\n",
       "   'clf__min_samples_leaf': 0.1,\n",
       "   'clf__min_samples_split': 0.05,\n",
       "   'clf__n_estimators': 120},\n",
       "  {'clf__criterion': 'entropy',\n",
       "   'clf__max_depth': 4,\n",
       "   'clf__min_samples_leaf': 0.1,\n",
       "   'clf__min_samples_split': 0.1,\n",
       "   'clf__n_estimators': 120},\n",
       "  {'clf__criterion': 'entropy',\n",
       "   'clf__max_depth': 4,\n",
       "   'clf__min_samples_leaf': 0.1,\n",
       "   'clf__min_samples_split': 0.2,\n",
       "   'clf__n_estimators': 120},\n",
       "  {'clf__criterion': 'entropy',\n",
       "   'clf__max_depth': 4,\n",
       "   'clf__min_samples_leaf': 0.2,\n",
       "   'clf__min_samples_split': 0.05,\n",
       "   'clf__n_estimators': 120},\n",
       "  {'clf__criterion': 'entropy',\n",
       "   'clf__max_depth': 4,\n",
       "   'clf__min_samples_leaf': 0.2,\n",
       "   'clf__min_samples_split': 0.1,\n",
       "   'clf__n_estimators': 120},\n",
       "  {'clf__criterion': 'entropy',\n",
       "   'clf__max_depth': 4,\n",
       "   'clf__min_samples_leaf': 0.2,\n",
       "   'clf__min_samples_split': 0.2,\n",
       "   'clf__n_estimators': 120},\n",
       "  {'clf__criterion': 'entropy',\n",
       "   'clf__max_depth': 5,\n",
       "   'clf__min_samples_leaf': 0.05,\n",
       "   'clf__min_samples_split': 0.05,\n",
       "   'clf__n_estimators': 120},\n",
       "  {'clf__criterion': 'entropy',\n",
       "   'clf__max_depth': 5,\n",
       "   'clf__min_samples_leaf': 0.05,\n",
       "   'clf__min_samples_split': 0.1,\n",
       "   'clf__n_estimators': 120},\n",
       "  {'clf__criterion': 'entropy',\n",
       "   'clf__max_depth': 5,\n",
       "   'clf__min_samples_leaf': 0.05,\n",
       "   'clf__min_samples_split': 0.2,\n",
       "   'clf__n_estimators': 120},\n",
       "  {'clf__criterion': 'entropy',\n",
       "   'clf__max_depth': 5,\n",
       "   'clf__min_samples_leaf': 0.1,\n",
       "   'clf__min_samples_split': 0.05,\n",
       "   'clf__n_estimators': 120},\n",
       "  {'clf__criterion': 'entropy',\n",
       "   'clf__max_depth': 5,\n",
       "   'clf__min_samples_leaf': 0.1,\n",
       "   'clf__min_samples_split': 0.1,\n",
       "   'clf__n_estimators': 120},\n",
       "  {'clf__criterion': 'entropy',\n",
       "   'clf__max_depth': 5,\n",
       "   'clf__min_samples_leaf': 0.1,\n",
       "   'clf__min_samples_split': 0.2,\n",
       "   'clf__n_estimators': 120},\n",
       "  {'clf__criterion': 'entropy',\n",
       "   'clf__max_depth': 5,\n",
       "   'clf__min_samples_leaf': 0.2,\n",
       "   'clf__min_samples_split': 0.05,\n",
       "   'clf__n_estimators': 120},\n",
       "  {'clf__criterion': 'entropy',\n",
       "   'clf__max_depth': 5,\n",
       "   'clf__min_samples_leaf': 0.2,\n",
       "   'clf__min_samples_split': 0.1,\n",
       "   'clf__n_estimators': 120},\n",
       "  {'clf__criterion': 'entropy',\n",
       "   'clf__max_depth': 5,\n",
       "   'clf__min_samples_leaf': 0.2,\n",
       "   'clf__min_samples_split': 0.2,\n",
       "   'clf__n_estimators': 120},\n",
       "  {'clf__criterion': 'entropy',\n",
       "   'clf__max_depth': 6,\n",
       "   'clf__min_samples_leaf': 0.05,\n",
       "   'clf__min_samples_split': 0.05,\n",
       "   'clf__n_estimators': 120},\n",
       "  {'clf__criterion': 'entropy',\n",
       "   'clf__max_depth': 6,\n",
       "   'clf__min_samples_leaf': 0.05,\n",
       "   'clf__min_samples_split': 0.1,\n",
       "   'clf__n_estimators': 120},\n",
       "  {'clf__criterion': 'entropy',\n",
       "   'clf__max_depth': 6,\n",
       "   'clf__min_samples_leaf': 0.05,\n",
       "   'clf__min_samples_split': 0.2,\n",
       "   'clf__n_estimators': 120},\n",
       "  {'clf__criterion': 'entropy',\n",
       "   'clf__max_depth': 6,\n",
       "   'clf__min_samples_leaf': 0.1,\n",
       "   'clf__min_samples_split': 0.05,\n",
       "   'clf__n_estimators': 120},\n",
       "  {'clf__criterion': 'entropy',\n",
       "   'clf__max_depth': 6,\n",
       "   'clf__min_samples_leaf': 0.1,\n",
       "   'clf__min_samples_split': 0.1,\n",
       "   'clf__n_estimators': 120},\n",
       "  {'clf__criterion': 'entropy',\n",
       "   'clf__max_depth': 6,\n",
       "   'clf__min_samples_leaf': 0.1,\n",
       "   'clf__min_samples_split': 0.2,\n",
       "   'clf__n_estimators': 120},\n",
       "  {'clf__criterion': 'entropy',\n",
       "   'clf__max_depth': 6,\n",
       "   'clf__min_samples_leaf': 0.2,\n",
       "   'clf__min_samples_split': 0.05,\n",
       "   'clf__n_estimators': 120},\n",
       "  {'clf__criterion': 'entropy',\n",
       "   'clf__max_depth': 6,\n",
       "   'clf__min_samples_leaf': 0.2,\n",
       "   'clf__min_samples_split': 0.1,\n",
       "   'clf__n_estimators': 120},\n",
       "  {'clf__criterion': 'entropy',\n",
       "   'clf__max_depth': 6,\n",
       "   'clf__min_samples_leaf': 0.2,\n",
       "   'clf__min_samples_split': 0.2,\n",
       "   'clf__n_estimators': 120},\n",
       "  {'clf__criterion': 'gini',\n",
       "   'clf__max_depth': 4,\n",
       "   'clf__min_samples_leaf': 0.05,\n",
       "   'clf__min_samples_split': 0.05,\n",
       "   'clf__n_estimators': 120},\n",
       "  {'clf__criterion': 'gini',\n",
       "   'clf__max_depth': 4,\n",
       "   'clf__min_samples_leaf': 0.05,\n",
       "   'clf__min_samples_split': 0.1,\n",
       "   'clf__n_estimators': 120},\n",
       "  {'clf__criterion': 'gini',\n",
       "   'clf__max_depth': 4,\n",
       "   'clf__min_samples_leaf': 0.05,\n",
       "   'clf__min_samples_split': 0.2,\n",
       "   'clf__n_estimators': 120},\n",
       "  {'clf__criterion': 'gini',\n",
       "   'clf__max_depth': 4,\n",
       "   'clf__min_samples_leaf': 0.1,\n",
       "   'clf__min_samples_split': 0.05,\n",
       "   'clf__n_estimators': 120},\n",
       "  {'clf__criterion': 'gini',\n",
       "   'clf__max_depth': 4,\n",
       "   'clf__min_samples_leaf': 0.1,\n",
       "   'clf__min_samples_split': 0.1,\n",
       "   'clf__n_estimators': 120},\n",
       "  {'clf__criterion': 'gini',\n",
       "   'clf__max_depth': 4,\n",
       "   'clf__min_samples_leaf': 0.1,\n",
       "   'clf__min_samples_split': 0.2,\n",
       "   'clf__n_estimators': 120},\n",
       "  {'clf__criterion': 'gini',\n",
       "   'clf__max_depth': 4,\n",
       "   'clf__min_samples_leaf': 0.2,\n",
       "   'clf__min_samples_split': 0.05,\n",
       "   'clf__n_estimators': 120},\n",
       "  {'clf__criterion': 'gini',\n",
       "   'clf__max_depth': 4,\n",
       "   'clf__min_samples_leaf': 0.2,\n",
       "   'clf__min_samples_split': 0.1,\n",
       "   'clf__n_estimators': 120},\n",
       "  {'clf__criterion': 'gini',\n",
       "   'clf__max_depth': 4,\n",
       "   'clf__min_samples_leaf': 0.2,\n",
       "   'clf__min_samples_split': 0.2,\n",
       "   'clf__n_estimators': 120},\n",
       "  {'clf__criterion': 'gini',\n",
       "   'clf__max_depth': 5,\n",
       "   'clf__min_samples_leaf': 0.05,\n",
       "   'clf__min_samples_split': 0.05,\n",
       "   'clf__n_estimators': 120},\n",
       "  {'clf__criterion': 'gini',\n",
       "   'clf__max_depth': 5,\n",
       "   'clf__min_samples_leaf': 0.05,\n",
       "   'clf__min_samples_split': 0.1,\n",
       "   'clf__n_estimators': 120},\n",
       "  {'clf__criterion': 'gini',\n",
       "   'clf__max_depth': 5,\n",
       "   'clf__min_samples_leaf': 0.05,\n",
       "   'clf__min_samples_split': 0.2,\n",
       "   'clf__n_estimators': 120},\n",
       "  {'clf__criterion': 'gini',\n",
       "   'clf__max_depth': 5,\n",
       "   'clf__min_samples_leaf': 0.1,\n",
       "   'clf__min_samples_split': 0.05,\n",
       "   'clf__n_estimators': 120},\n",
       "  {'clf__criterion': 'gini',\n",
       "   'clf__max_depth': 5,\n",
       "   'clf__min_samples_leaf': 0.1,\n",
       "   'clf__min_samples_split': 0.1,\n",
       "   'clf__n_estimators': 120},\n",
       "  {'clf__criterion': 'gini',\n",
       "   'clf__max_depth': 5,\n",
       "   'clf__min_samples_leaf': 0.1,\n",
       "   'clf__min_samples_split': 0.2,\n",
       "   'clf__n_estimators': 120},\n",
       "  {'clf__criterion': 'gini',\n",
       "   'clf__max_depth': 5,\n",
       "   'clf__min_samples_leaf': 0.2,\n",
       "   'clf__min_samples_split': 0.05,\n",
       "   'clf__n_estimators': 120},\n",
       "  {'clf__criterion': 'gini',\n",
       "   'clf__max_depth': 5,\n",
       "   'clf__min_samples_leaf': 0.2,\n",
       "   'clf__min_samples_split': 0.1,\n",
       "   'clf__n_estimators': 120},\n",
       "  {'clf__criterion': 'gini',\n",
       "   'clf__max_depth': 5,\n",
       "   'clf__min_samples_leaf': 0.2,\n",
       "   'clf__min_samples_split': 0.2,\n",
       "   'clf__n_estimators': 120},\n",
       "  {'clf__criterion': 'gini',\n",
       "   'clf__max_depth': 6,\n",
       "   'clf__min_samples_leaf': 0.05,\n",
       "   'clf__min_samples_split': 0.05,\n",
       "   'clf__n_estimators': 120},\n",
       "  {'clf__criterion': 'gini',\n",
       "   'clf__max_depth': 6,\n",
       "   'clf__min_samples_leaf': 0.05,\n",
       "   'clf__min_samples_split': 0.1,\n",
       "   'clf__n_estimators': 120},\n",
       "  {'clf__criterion': 'gini',\n",
       "   'clf__max_depth': 6,\n",
       "   'clf__min_samples_leaf': 0.05,\n",
       "   'clf__min_samples_split': 0.2,\n",
       "   'clf__n_estimators': 120},\n",
       "  {'clf__criterion': 'gini',\n",
       "   'clf__max_depth': 6,\n",
       "   'clf__min_samples_leaf': 0.1,\n",
       "   'clf__min_samples_split': 0.05,\n",
       "   'clf__n_estimators': 120},\n",
       "  {'clf__criterion': 'gini',\n",
       "   'clf__max_depth': 6,\n",
       "   'clf__min_samples_leaf': 0.1,\n",
       "   'clf__min_samples_split': 0.1,\n",
       "   'clf__n_estimators': 120},\n",
       "  {'clf__criterion': 'gini',\n",
       "   'clf__max_depth': 6,\n",
       "   'clf__min_samples_leaf': 0.1,\n",
       "   'clf__min_samples_split': 0.2,\n",
       "   'clf__n_estimators': 120},\n",
       "  {'clf__criterion': 'gini',\n",
       "   'clf__max_depth': 6,\n",
       "   'clf__min_samples_leaf': 0.2,\n",
       "   'clf__min_samples_split': 0.05,\n",
       "   'clf__n_estimators': 120},\n",
       "  {'clf__criterion': 'gini',\n",
       "   'clf__max_depth': 6,\n",
       "   'clf__min_samples_leaf': 0.2,\n",
       "   'clf__min_samples_split': 0.1,\n",
       "   'clf__n_estimators': 120},\n",
       "  {'clf__criterion': 'gini',\n",
       "   'clf__max_depth': 6,\n",
       "   'clf__min_samples_leaf': 0.2,\n",
       "   'clf__min_samples_split': 0.2,\n",
       "   'clf__n_estimators': 120}],\n",
       " 'split0_test_score': array([0.61673938, 0.61722411, 0.57836484, 0.5287607 , 0.53029569,\n",
       "        0.52900307, 0.44142834, 0.43965099, 0.43965099, 0.6207788 ,\n",
       "        0.62045565, 0.57941509, 0.52900307, 0.52989174, 0.52964938,\n",
       "        0.44045888, 0.44110519, 0.43989336, 0.6207788 , 0.62110196,\n",
       "        0.57860721, 0.5294878 , 0.52981095, 0.52908386, 0.4402973 ,\n",
       "        0.44062046, 0.44175149, 0.61391178, 0.61383099, 0.56115689,\n",
       "        0.52851834, 0.52892228, 0.52956859, 0.4410244 , 0.44110519,\n",
       "        0.44053967, 0.62271772, 0.62296009, 0.57448699, 0.52835676,\n",
       "        0.52859913, 0.52867992, 0.43997415, 0.44037809, 0.44183228,\n",
       "        0.62627242, 0.62627242, 0.57682986, 0.5287607 , 0.52835676,\n",
       "        0.52916465, 0.44078203, 0.44053967, 0.44110519]),\n",
       " 'split1_test_score': array([0.61535354, 0.61834343, 0.56783838, 0.50989899, 0.51078788,\n",
       "        0.51038384, 0.41058586, 0.40993939, 0.41236364, 0.62416162,\n",
       "        0.62343434, 0.56759596, 0.5099798 , 0.51046465, 0.51062626,\n",
       "        0.40977778, 0.41252525, 0.40937374, 0.62553535, 0.62569697,\n",
       "        0.57236364, 0.51046465, 0.51022222, 0.5099798 , 0.40937374,\n",
       "        0.40985859, 0.4109899 , 0.61777778, 0.61680808, 0.5639596 ,\n",
       "        0.51070707, 0.50933333, 0.51006061, 0.43288889, 0.43127273,\n",
       "        0.43224242, 0.62359596, 0.62367677, 0.56888889, 0.51111111,\n",
       "        0.50949495, 0.51022222, 0.43240404, 0.43030303, 0.43345455,\n",
       "        0.62610101, 0.62577778, 0.57107071, 0.51078788, 0.50981818,\n",
       "        0.51038384, 0.4329697 , 0.43232323, 0.43224242]),\n",
       " 'split2_test_score': array([0.61197769, 0.61100784, 0.55960559, 0.51289097, 0.51369918,\n",
       "        0.51281015, 0.44395054, 0.43950537, 0.44362725, 0.61682696,\n",
       "        0.61876667, 0.55855492, 0.51394165, 0.51474986, 0.51418411,\n",
       "        0.44370807, 0.44556696, 0.44168755, 0.61973652, 0.62070638,\n",
       "        0.55491797, 0.51466904, 0.51507314, 0.51466904, 0.44370807,\n",
       "        0.4415259 , 0.44403136, 0.60914895, 0.60914895, 0.55564536,\n",
       "        0.51741696, 0.51782106, 0.51563889, 0.44823406, 0.44896145,\n",
       "        0.44831488, 0.62191869, 0.62224198, 0.56558636, 0.51612382,\n",
       "        0.51790188, 0.51709367, 0.44904227, 0.44888063, 0.44799159,\n",
       "        0.62256526, 0.62353512, 0.56607128, 0.51717449, 0.516043  ,\n",
       "        0.51733614, 0.44774913, 0.44791077, 0.44799159]),\n",
       " 'mean_test_score': array([0.61469051, 0.61552551, 0.56860421, 0.51718472, 0.51826213,\n",
       "        0.5174002 , 0.43198836, 0.42969886, 0.43188062, 0.62058934,\n",
       "        0.62088563, 0.56852341, 0.51764262, 0.51836988, 0.51815439,\n",
       "        0.43131498, 0.43306578, 0.43031838, 0.62201692, 0.62250175,\n",
       "        0.56863115, 0.51820826, 0.51836988, 0.51791198, 0.43112643,\n",
       "        0.43066853, 0.43225772, 0.6136131 , 0.61326294, 0.56025427,\n",
       "        0.51888165, 0.5186931 , 0.51842375, 0.4407154 , 0.44044605,\n",
       "        0.44036524, 0.62274417, 0.62295965, 0.56965469, 0.51853149,\n",
       "        0.51866616, 0.51866616, 0.44047298, 0.43985347, 0.4410925 ,\n",
       "        0.6249798 , 0.62519528, 0.57132468, 0.51890858, 0.51807359,\n",
       "        0.51896245, 0.44049992, 0.4402575 , 0.44044605]),\n",
       " 'std_test_score': array([0.00199969, 0.00322655, 0.0076776 , 0.00827739, 0.00859297,\n",
       "        0.00826535, 0.01516854, 0.0139719 , 0.01389546, 0.0029972 ,\n",
       "        0.00192958, 0.0085414 , 0.00819552, 0.00833417, 0.00825822,\n",
       "        0.01528646, 0.01463783, 0.0148279 , 0.00252399, 0.00226508,\n",
       "        0.01002481, 0.00815968, 0.00833017, 0.00812958, 0.01544407,\n",
       "        0.0147192 , 0.01506709, 0.00352884, 0.00315236, 0.0034536 ,\n",
       "        0.00734513, 0.00802126, 0.00820424, 0.00626811, 0.00723603,\n",
       "        0.00656236, 0.00068496, 0.00058572, 0.00367382, 0.00724369,\n",
       "        0.00781831, 0.00761725, 0.00680132, 0.00759293, 0.00595742,\n",
       "        0.00170853, 0.00119099, 0.00439587, 0.00743944, 0.00770365,\n",
       "        0.00775333, 0.00603665, 0.00636637, 0.0064461 ]),\n",
       " 'rank_test_score': array([10,  9, 16, 36, 29, 35, 48, 54, 49,  8,  7, 17, 34, 27, 31, 50, 46,\n",
       "        53,  6,  5, 15, 30, 27, 33, 51, 52, 47, 11, 12, 18, 21, 22, 26, 38,\n",
       "        41, 43,  4,  3, 14, 25, 23, 23, 40, 45, 37,  2,  1, 13, 20, 32, 19,\n",
       "        39, 44, 41]),\n",
       " 'split0_train_score': array([0.62304025, 0.62239373, 0.57972361, 0.52816389, 0.52800226,\n",
       "        0.52812348, 0.4435914 , 0.44144981, 0.44177307, 0.62736383,\n",
       "        0.62788912, 0.5818652 , 0.52840634, 0.52848715, 0.52788104,\n",
       "        0.44189429, 0.44221755, 0.44189429, 0.62768709, 0.62817197,\n",
       "        0.58069339, 0.52945693, 0.52897204, 0.52889122, 0.44221755,\n",
       "        0.44237918, 0.44338936, 0.6205754 , 0.62069662, 0.56182318,\n",
       "        0.52961856, 0.53066914, 0.52990141, 0.44165185, 0.44173267,\n",
       "        0.44173267, 0.62902053, 0.63003071, 0.57556166, 0.52893163,\n",
       "        0.53050752, 0.52901245, 0.44104574, 0.44217715, 0.44254081,\n",
       "        0.63197026, 0.63180863, 0.57806691, 0.52998222, 0.52925489,\n",
       "        0.53002263, 0.4419347 , 0.44209633, 0.44144981]),\n",
       " 'split1_train_score': array([0.61371258, 0.61544988, 0.56531049, 0.50595936, 0.50721183,\n",
       "        0.50454527, 0.40903398, 0.40818553, 0.41016525, 0.62171225,\n",
       "        0.62183346, 0.56426003, 0.50551493, 0.50551493, 0.50612096,\n",
       "        0.40818553, 0.41036726, 0.40826633, 0.62377278, 0.62445962,\n",
       "        0.57088602, 0.50519171, 0.50523211, 0.50555533, 0.40814513,\n",
       "        0.40822593, 0.40903398, 0.61658115, 0.61508626, 0.56219951,\n",
       "        0.50995919, 0.50987839, 0.50955517, 0.4312553 , 0.42963921,\n",
       "        0.43052806, 0.62094461, 0.62207588, 0.5671286 , 0.50951477,\n",
       "        0.50975718, 0.50882793, 0.43064927, 0.42834633, 0.43194214,\n",
       "        0.62288392, 0.62393439, 0.56947194, 0.5099996 , 0.50975718,\n",
       "        0.51024201, 0.43141691, 0.43016444, 0.43044725]),\n",
       " 'split2_train_score': array([0.61830889, 0.61632933, 0.5614269 , 0.51569507, 0.51605866,\n",
       "        0.51609906, 0.44503697, 0.44071426, 0.44503697, 0.62085404,\n",
       "        0.62307599, 0.56082091, 0.51698784, 0.51743223, 0.51686664,\n",
       "        0.44527936, 0.44697612, 0.44313821, 0.62347998, 0.62303559,\n",
       "        0.55742738, 0.51727063, 0.51670505, 0.51759383, 0.44487537,\n",
       "        0.44208783, 0.44507736, 0.6133802 , 0.61228942, 0.55803337,\n",
       "        0.51969458, 0.51985618, 0.51852301, 0.45008686, 0.45073324,\n",
       "        0.45061205, 0.62360118, 0.62376278, 0.56696158, 0.51832101,\n",
       "        0.52038137, 0.51961378, 0.45089484, 0.45085444, 0.45012726,\n",
       "        0.62529794, 0.62489395, 0.56756757, 0.52038137, 0.51920979,\n",
       "        0.52034097, 0.45012726, 0.45036965, 0.45016766]),\n",
       " 'mean_train_score': array([0.6183539 , 0.61805765, 0.56882033, 0.5166061 , 0.51709092,\n",
       "        0.51625594, 0.43255411, 0.43011653, 0.43232509, 0.62331004,\n",
       "        0.62426619, 0.56898205, 0.5169697 , 0.51714477, 0.51695622,\n",
       "        0.43178639, 0.43318698, 0.43109961, 0.62497995, 0.62522239,\n",
       "        0.56966893, 0.51730642, 0.51696973, 0.51734679, 0.43174602,\n",
       "        0.43089765, 0.43250024, 0.61684558, 0.6160241 , 0.56068535,\n",
       "        0.51975744, 0.52013457, 0.51932653, 0.440998  , 0.44070171,\n",
       "        0.44095759, 0.6245221 , 0.62528979, 0.56988395, 0.51892247,\n",
       "        0.52021536, 0.51915139, 0.44086328, 0.44045931, 0.44153674,\n",
       "        0.62671738, 0.62687899, 0.57170214, 0.52012106, 0.51940729,\n",
       "        0.52020187, 0.44115962, 0.44087681, 0.44068824]),\n",
       " 'std_train_score': array([0.00380814, 0.00308702, 0.00787112, 0.00908783, 0.00851899,\n",
       "        0.0096264 , 0.01664172, 0.01551047, 0.01572593, 0.00288779,\n",
       "        0.00261154, 0.00921733, 0.00934539, 0.00938057, 0.00888374,\n",
       "        0.01674545, 0.0162525 , 0.01615355, 0.00191796, 0.00216518,\n",
       "        0.00953722, 0.00990627, 0.00969359, 0.00952844, 0.01672359,\n",
       "        0.01603177, 0.01660745, 0.00294337, 0.0034957 , 0.00188152,\n",
       "        0.00802602, 0.00849007, 0.00832573, 0.00770184, 0.00864241,\n",
       "        0.00821755, 0.00336067, 0.00342234, 0.00401533, 0.0079383 ,\n",
       "        0.0084721 , 0.00824678, 0.00826623, 0.00926884, 0.00745791,\n",
       "        0.00384287, 0.00350773, 0.00456723, 0.00815995, 0.00796113,\n",
       "        0.008076  , 0.0076581 , 0.0082937 , 0.00806881])}"
      ]
     },
     "execution_count": 23,
     "metadata": {},
     "output_type": "execute_result"
    }
   ],
   "source": [
    "gs_rf.cv_results_"
   ]
  },
  {
   "cell_type": "markdown",
   "metadata": {},
   "source": [
    "## Adaboost"
   ]
  },
  {
   "cell_type": "code",
   "execution_count": 24,
   "metadata": {},
   "outputs": [
    {
     "name": "stdout",
     "output_type": "stream",
     "text": [
      "Fitting 3 folds for each of 9 candidates, totalling 27 fits\n"
     ]
    },
    {
     "name": "stderr",
     "output_type": "stream",
     "text": [
      "[Parallel(n_jobs=-1)]: Using backend LokyBackend with 16 concurrent workers.\n",
      "[Parallel(n_jobs=-1)]: Done  10 out of  27 | elapsed:   13.9s remaining:   23.6s\n",
      "[Parallel(n_jobs=-1)]: Done  24 out of  27 | elapsed:   23.8s remaining:    2.9s\n",
      "[Parallel(n_jobs=-1)]: Done  27 out of  27 | elapsed:   26.8s finished\n"
     ]
    },
    {
     "name": "stdout",
     "output_type": "stream",
     "text": [
      "Best accuracy: 0.666\n",
      "\n",
      "Best params:\n",
      " {'clf__learning_rate': 0.5, 'clf__n_estimators': 50}\n"
     ]
    }
   ],
   "source": [
    "from sklearn.ensemble import AdaBoostClassifier\n",
    "# Construct pipeline\n",
    "pipe_ab = Pipeline([('pca', PCA(n_components=27)),\n",
    "            ('clf', AdaBoostClassifier(random_state = 123))])\n",
    "\n",
    "# Set grid search params\n",
    "adaboost_param_grid = {\n",
    "    'clf__n_estimators': [30, 50, 70],\n",
    "    'clf__learning_rate': [1.0, 0.5, 0.1]\n",
    "}\n",
    "\n",
    "# Construct grid search\n",
    "gs_ab = GridSearchCV(estimator=pipe_ab,\n",
    "            param_grid=adaboost_param_grid,\n",
    "            scoring='accuracy',\n",
    "            cv=3, verbose=2, return_train_score = True,\n",
    "            n_jobs=-1)\n",
    "\n",
    "# Fit using grid search\n",
    "gs_ab.fit(X_train, y_train)\n",
    "\n",
    "# Best accuracy\n",
    "print('Best accuracy: %.3f' % gs_ab.best_score_)\n",
    "\n",
    "# Best params\n",
    "print('\\nBest params:\\n', gs_ab.best_params_)"
   ]
  },
  {
   "cell_type": "markdown",
   "metadata": {},
   "source": [
    "## Note\n",
    "\n",
    "Note that this solution is only one of many options. The results in the Random Forest and Adaboost models show that there is a lot of improvement possible tuning the hyperparameters further, so make sure to explore this yourself!"
   ]
  },
  {
   "cell_type": "markdown",
   "metadata": {},
   "source": [
    "## Summary \n",
    "\n",
    "Great! You now got a lot of practice in. What algorithm would you choose and why?"
   ]
  }
 ],
 "metadata": {
  "kernelspec": {
   "display_name": "learn-env",
   "language": "python",
   "name": "learn-env"
  },
  "language_info": {
   "codemirror_mode": {
    "name": "ipython",
    "version": 3
   },
   "file_extension": ".py",
   "mimetype": "text/x-python",
   "name": "python",
   "nbconvert_exporter": "python",
   "pygments_lexer": "ipython3",
   "version": "3.6.6"
  }
 },
 "nbformat": 4,
 "nbformat_minor": 2
}
